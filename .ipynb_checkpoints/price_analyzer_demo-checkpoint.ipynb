{
 "cells": [
  {
   "cell_type": "code",
   "execution_count": 6,
   "id": "c87abf43",
   "metadata": {},
   "outputs": [
    {
     "name": "stdout",
     "output_type": "stream",
     "text": [
      "Succeed to download datas [BTCUSDT_UMCBL / 5m / 1695931912741 / 1695961912741]\n",
      "Succeed to download datas [BTCUSDT_UMCBL / 15m / 1695871912843 / 1695961912843]\n",
      "Succeed to download datas [BTCUSDT_UMCBL / 1H / 1695601912932 / 1695961912932]\n",
      "Succeed to download datas [BTCUSDT_UMCBL / 6H / 1693801913025 / 1695961913025]\n",
      "Succeed to download datas [BTCUSDT_UMCBL / 1D / 1687321913118 / 1695961913118]\n",
      "Succeed to download datas [BTCUSDT_UMCBL / 5m / 1695931913213 / 1695961913213]\n"
     ]
    },
    {
     "ename": "NameError",
     "evalue": "name 'key' is not defined",
     "output_type": "error",
     "traceback": [
      "\u001b[1;31m---------------------------------------------------------------------------\u001b[0m",
      "\u001b[1;31mNameError\u001b[0m                                 Traceback (most recent call last)",
      "\u001b[1;32m~\\AppData\\Local\\Temp/ipykernel_24368/2332125211.py\u001b[0m in \u001b[0;36m<module>\u001b[1;34m\u001b[0m\n\u001b[0;32m     11\u001b[0m \u001b[1;33m\u001b[0m\u001b[0m\n\u001b[0;32m     12\u001b[0m \u001b[1;32mfor\u001b[0m \u001b[0mperiod\u001b[0m \u001b[1;32min\u001b[0m \u001b[0msupported_period\u001b[0m\u001b[1;33m.\u001b[0m\u001b[0mkeys\u001b[0m\u001b[1;33m(\u001b[0m\u001b[1;33m)\u001b[0m\u001b[1;33m:\u001b[0m\u001b[1;33m\u001b[0m\u001b[1;33m\u001b[0m\u001b[0m\n\u001b[1;32m---> 13\u001b[1;33m     downloaded_datas[key] = data_crawler.download_datas(ticker=ticker,\n\u001b[0m\u001b[0;32m     14\u001b[0m                                                         \u001b[0mperiod\u001b[0m\u001b[1;33m=\u001b[0m\u001b[0mperiod\u001b[0m\u001b[1;33m,\u001b[0m\u001b[1;33m\u001b[0m\u001b[1;33m\u001b[0m\u001b[0m\n\u001b[0;32m     15\u001b[0m                                                         \u001b[0mstartTime\u001b[0m\u001b[1;33m=\u001b[0m\u001b[0mnow\u001b[0m \u001b[1;33m-\u001b[0m \u001b[0msupported_period\u001b[0m\u001b[1;33m[\u001b[0m\u001b[0mperiod\u001b[0m\u001b[1;33m]\u001b[0m\u001b[1;33m[\u001b[0m\u001b[1;36m0\u001b[0m\u001b[1;33m]\u001b[0m \u001b[1;33m*\u001b[0m \u001b[0msupported_period\u001b[0m\u001b[1;33m[\u001b[0m\u001b[0mperiod\u001b[0m\u001b[1;33m]\u001b[0m\u001b[1;33m[\u001b[0m\u001b[1;36m1\u001b[0m\u001b[1;33m]\u001b[0m\u001b[1;33m,\u001b[0m\u001b[1;33m\u001b[0m\u001b[1;33m\u001b[0m\u001b[0m\n",
      "\u001b[1;31mNameError\u001b[0m: name 'key' is not defined"
     ]
    }
   ],
   "source": [
    "import time\n",
    "from data_crawler import data_crawler\n",
    "\n",
    "data_crawler = data_crawler(None)\n",
    "\n",
    "ticker = \"BTCUSDT_UMCBL\"\n",
    "now = int(time.time() * 1000)\n",
    "supported_period = data_crawler.get_supported_period()\n",
    "\n",
    "downloaded_datas = dict()\n",
    "\n",
    "for period in supported_period.keys():\n",
    "    downloaded_datas[period] = data_crawler.download_datas(ticker=ticker,\n",
    "                                                           period=period, \n",
    "                                                           startTime=now - supported_period[period][0] * supported_period[period][1],\n",
    "                                                           endTime=now)\n",
    "\n",
    "print(downlaoded_datas)"
   ]
  },
  {
   "cell_type": "code",
   "execution_count": null,
   "id": "1fdfa658",
   "metadata": {},
   "outputs": [],
   "source": []
  }
 ],
 "metadata": {
  "kernelspec": {
   "display_name": "Python 3 (ipykernel)",
   "language": "python",
   "name": "python3"
  },
  "language_info": {
   "codemirror_mode": {
    "name": "ipython",
    "version": 3
   },
   "file_extension": ".py",
   "mimetype": "text/x-python",
   "name": "python",
   "nbconvert_exporter": "python",
   "pygments_lexer": "ipython3",
   "version": "3.9.7"
  }
 },
 "nbformat": 4,
 "nbformat_minor": 5
}
